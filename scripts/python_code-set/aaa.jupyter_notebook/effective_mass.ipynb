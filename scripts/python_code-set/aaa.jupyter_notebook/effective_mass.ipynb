{
 "cells": [
  {
   "cell_type": "code",
   "execution_count": 1,
   "metadata": {},
   "outputs": [],
   "source": [
    "import sys, os\n",
    "import numpy             as np\n",
    "import scipy             as sp\n",
    "import scipy.optimize    as opt\n",
    "import matplotlib.pyplot as plt\n",
    "from   matplotlib import rc, patches\n",
    "\n",
    "path_PythonCodeSet = \"/Users/miiya/python_code-set\"\n",
    "sys.path.append(path_PythonCodeSet)\n",
    "sys.path.append(path_PythonCodeSet+\"/zzz.main_sub/indep_code/plot\")\n",
    "\n",
    "import plot_Zfactor"
   ]
  },
  {
   "cell_type": "code",
   "execution_count": null,
   "metadata": {},
   "outputs": [],
   "source": [
    "ibase = \"/Users/miiya/data/results.sloppy.t_mod12_0_5.x_mod10_0_5.y_mod10_0_5.z_mod10_0_5.ave.S0.S4\"\n",
    "ihad  = \"proton_CG05_CG05\"\n",
    "\n",
    "Corr_PS, Corr_SS = plot_Zfactor.main_read(ibase, ihad, 1, 9)"
   ]
  },
  {
   "cell_type": "code",
   "execution_count": null,
   "metadata": {},
   "outputs": [],
   "source": [
    "lat_spacing = None\n",
    "fit_type    = \"exp\"\n",
    "tmin = 11\n",
    "tmax = 20\n",
    "\n",
    "Effmass_PS, Effmass_SS, fitmass, facMeV = plot_Zfactor.main_fit(Corr_PS, Corr_SS, lat_spacing, fit_type, tmin, tmax)"
   ]
  },
  {
   "cell_type": "code",
   "execution_count": null,
   "metadata": {},
   "outputs": [],
   "source": [
    "plot_Zfactor.main_calcZ(Corr_PS, Corr_SS, fitmass, facMeV, tmin, tmax)"
   ]
  },
  {
   "cell_type": "code",
   "execution_count": null,
   "metadata": {},
   "outputs": [],
   "source": [
    "rc('text' , usetex=True)\n",
    "rc('font' ,**{'family'    : 'Times New Roman',\n",
    "              'weight'    : 'bold',\n",
    "              'size'      : 12})\n",
    "rc('xtick',**{'labelsize' : 14})\n",
    "rc('ytick',**{'labelsize' : 14})\n",
    "rc('axes' ,**{'labelsize' : 14})\n",
    "rc('axes' ,**{'linewidth' : 2})\n",
    "\n",
    "xrange = [0, 22]\n",
    "yrange = [[0.5, 0.7], [10e-10, 10e14], [0.04, 0.045], [1.0e6, 1.3e6]]\n",
    "\n",
    "#yrange = [None, None, None, None]; #xrange = None\n",
    "\n",
    "label_location = 'lower left'\n",
    "\n",
    "plot_Zfactor.main_plot(Corr_PS, Corr_SS, Effmass_PS, Effmass_SS, fitmass, facMeV, tmin, tmax, \n",
    "                       xrange, yrange, label_location, None)"
   ]
  },
  {
   "cell_type": "code",
   "execution_count": null,
   "metadata": {},
   "outputs": [],
   "source": []
  },
  {
   "cell_type": "code",
   "execution_count": 24,
   "metadata": {},
   "outputs": [
    {
     "name": "stdout",
     "output_type": "stream",
     "text": [
      "# Read anti-hadron...\n",
      "# Read anti-hadron...\n",
      "# Read anti-hadron...\n"
     ]
    },
    {
     "data": {
      "text/plain": [
       "<matplotlib.lines.Line2D at 0x108e83fd0>"
      ]
     },
     "execution_count": 24,
     "metadata": {},
     "output_type": "execute_result"
    },
    {
     "data": {
      "image/png": "[encoded data removed]",
      "text/plain": [
       "<matplotlib.figure.Figure at 0x108ba27b8>"
      ]
     },
     "metadata": {},
     "output_type": "display_data"
    }
   ],
   "source": [
    "ibase = \"/Users/miiya/Dropbox/programs/data/correlator.PS.dir/c\"\n",
    "Nbin  = 3\n",
    "tmin  = 2\n",
    "tmax  = 25\n",
    "\n",
    "Corr_PS_1 = plot_Zfactor.read_correlators(\"%s/correlator.PS.dir/*/%s*\" % (ibase, \"proton_CG05_CG05\"))\n",
    "Corr_PS_2 = plot_Zfactor.read_correlators(\"%s/correlator.PS.dir/*/%s*\" % (ibase,     \"Xi_CG05_CG05\"))\n",
    "Corr_PS_3 = plot_Zfactor.read_correlators(\"%s/correlator.PS.dir/*/%s*\" % (ibase, \"Lambda_CG05_CG05\"))\n",
    "\n",
    "Corr_PS_1 = plot_Zfactor.make_jk_samples(Corr_PS_1[:,:,1], Nbin)\n",
    "Corr_PS_2 = plot_Zfactor.make_jk_samples(Corr_PS_2[:,:,1], Nbin)\n",
    "Corr_PS_3 = plot_Zfactor.make_jk_samples(Corr_PS_3[:,:,1], Nbin)\n",
    "\n",
    "Corr_PS_3[Corr_PS_3==0.0] = 1e-10\n",
    "\n",
    "Corr_PS = Corr_PS_1 * Corr_PS_2 / Corr_PS_3**2\n",
    "Corr_PS = plot_Zfactor.calc_effmass_exp(Corr_PS) * 197.327 / 0.0907\n",
    "Nbin    = len(Corr_PS[:,0])\n",
    "\n",
    "tplt = np.arange(tmin,tmax)\n",
    "plt.errorbar(tplt, np.mean(Corr_PS[:,tmin:tmax],axis=0), \n",
    "             yerr=np.std(Corr_PS[:,tmin:tmax],axis=0)*np.sqrt(Nbin-1), fmt=\"b.\", lw=6)\n",
    "plt.grid(which='major',color='gray',linestyle='--')\n",
    "plt.axhline(0.0, lw=2, color='black')"
   ]
  },
  {
   "cell_type": "code",
   "execution_count": null,
   "metadata": {},
   "outputs": [],
   "source": []
  }
 ],
 "metadata": {
  "kernelspec": {
   "display_name": "Python 3",
   "language": "python",
   "name": "python3"
  },
  "language_info": {
   "codemirror_mode": {
    "name": "ipython",
    "version": 3
   },
   "file_extension": ".py",
   "mimetype": "text/x-python",
   "name": "python",
   "nbconvert_exporter": "python",
   "pygments_lexer": "ipython3",
   "version": "3.6.3"
  }
 },
 "nbformat": 4,
 "nbformat_minor": 2
}
