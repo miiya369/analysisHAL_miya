{
 "cells": [
  {
   "cell_type": "code",
   "execution_count": 1,
   "metadata": {},
   "outputs": [],
   "source": [
    "import sys, os\n",
    "import numpy             as np\n",
    "import scipy             as sp\n",
    "import scipy.optimize    as opt\n",
    "import matplotlib.pyplot as plt\n",
    "\n",
    "path_PythonCodeSet = \"/Users/miiya/python_code-set/lib\"\n",
    "sys.path.append(path_PythonCodeSet)\n",
    "\n",
    "from lattice.make_r_coordinates  import *\n",
    "from lattice.rotation_projection import *"
   ]
  },
  {
   "cell_type": "code",
   "execution_count": 93,
   "metadata": {},
   "outputs": [],
   "source": [
    "Ls   = 96\n",
    "Larr = np.arange(Ls)\n",
    "Lpbc = np.array([i if (i<Ls//2) else i-Ls for i in Larr])\n",
    "rcrd = make_r_coord(Ls)\n",
    "wfnc = lambda x,y,z: np.exp(-(x**2+y**2+z**2)/200.0)+1.0"
   ]
  },
  {
   "cell_type": "code",
   "execution_count": 94,
   "metadata": {},
   "outputs": [],
   "source": [
    "w = np.array([[wfnc(Lpbc,Lpbc[y],Lpbc[z]) for y in Larr] for z in Larr])"
   ]
  },
  {
   "cell_type": "code",
   "execution_count": 95,
   "metadata": {},
   "outputs": [],
   "source": [
    "d = np.random.random((Ls,Ls,Ls))"
   ]
  },
  {
   "cell_type": "code",
   "execution_count": 96,
   "metadata": {},
   "outputs": [],
   "source": [
    "wa1 = rot_proj(w)\n",
    "da1 = rot_proj(d)"
   ]
  },
  {
   "cell_type": "code",
   "execution_count": 97,
   "metadata": {},
   "outputs": [],
   "source": [
    "wr   = xyzdata_to_rdata(w)\n",
    "wa1r = xyzdata_to_rdata(wa1)\n",
    "dr   = xyzdata_to_rdata(d)\n",
    "da1r = xyzdata_to_rdata(da1)"
   ]
  },
  {
   "cell_type": "code",
   "execution_count": 119,
   "metadata": {},
   "outputs": [
    {
     "data": {
      "image/png": "[encoded data removed]",
      "text/plain": [
       "<matplotlib.figure.Figure at 0x10d541710>"
      ]
     },
     "metadata": {},
     "output_type": "display_data"
    }
   ],
   "source": [
    "plt.plot(wa1r[0],wa1r[1],'b.',figure=plt.figure(figsize=(15,4))); plt.grid()"
   ]
  },
  {
   "cell_type": "code",
   "execution_count": 137,
   "metadata": {
    "scrolled": true
   },
   "outputs": [
    {
     "name": "stdout",
     "output_type": "stream",
     "text": [
      "[20 29 30]\n",
      "[21 26 32]\n",
      "[16 27 34]\n",
      "[12 29 34]\n",
      "[ 4 30 35]\n",
      "[19 22 36]\n",
      "[13 26 36]\n",
      "[ 2 29 36]\n",
      "[14 24 37]\n",
      "[16 21 38]\n",
      "[11 24 38]\n",
      "[10 21 40]\n",
      "[11 16 42]\n",
      "[ 4 19 42]\n",
      "[ 6 16 43]\n",
      "[ 6 13 44]\n",
      "[ 3 14 44]\n",
      "[ 4 10 45]\n",
      "[ 3  4 46]\n",
      "[ 0  5 46]\n"
     ]
    }
   ],
   "source": [
    "idx = da1r[0]==rcrd[0][1786]\n",
    "for i in range(len(da1r[0,idx])):\n",
    "    z = da1r[2,idx][i]\n",
    "    y = da1r[3,idx][i]\n",
    "    x = da1r[4,idx][i]\n",
    "    print(np.array((x,y,z),dtype='i4'))"
   ]
  },
  {
   "cell_type": "code",
   "execution_count": 114,
   "metadata": {},
   "outputs": [
    {
     "data": {
      "text/plain": [
       "(array([1786, 1874]),)"
      ]
     },
     "execution_count": 114,
     "metadata": {},
     "output_type": "execute_result"
    }
   ],
   "source": [
    "np.where(rcrd[1]==20)"
   ]
  },
  {
   "cell_type": "code",
   "execution_count": 115,
   "metadata": {},
   "outputs": [
    {
     "data": {
      "image/png": "[encoded data removed]",
      "text/plain": [
       "<matplotlib.figure.Figure at 0x10b83af28>"
      ]
     },
     "metadata": {},
     "output_type": "display_data"
    }
   ],
   "source": [
    "plt.plot(rcrd[0][1750:1800],rcrd[1][1750:1800],'b.',figure=plt.figure(figsize=(15,4))); plt.grid()"
   ]
  },
  {
   "cell_type": "code",
   "execution_count": null,
   "metadata": {},
   "outputs": [],
   "source": []
  }
 ],
 "metadata": {
  "kernelspec": {
   "display_name": "Python 3",
   "language": "python",
   "name": "python3"
  },
  "language_info": {
   "codemirror_mode": {
    "name": "ipython",
    "version": 3
   },
   "file_extension": ".py",
   "mimetype": "text/x-python",
   "name": "python",
   "nbconvert_exporter": "python",
   "pygments_lexer": "ipython3",
   "version": "3.6.2"
  }
 },
 "nbformat": 4,
 "nbformat_minor": 2
}
