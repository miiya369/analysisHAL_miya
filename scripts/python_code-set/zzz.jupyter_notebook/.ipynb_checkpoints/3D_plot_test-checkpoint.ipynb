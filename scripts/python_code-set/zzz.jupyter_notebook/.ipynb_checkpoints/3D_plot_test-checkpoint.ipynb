{
 "cells": [
  {
   "cell_type": "code",
   "execution_count": 1,
   "metadata": {},
   "outputs": [],
   "source": [
    "import sys, os\n",
    "sys.path.append(\"/Users/miiya/python_code-set/lib\")\n",
    "import numpy as np\n",
    "\n",
    "show_pyplot = False\n",
    "show_plotly = False\n",
    "\n",
    "if (show_pyplot):\n",
    "    import matplotlib.pyplot as plt\n",
    "    from mpl_toolkits.mplot3d import axes3d\n",
    "if (show_plotly):\n",
    "    import plotly.offline as offline\n",
    "    import plotly.graph_objs as go\n",
    "    offline.init_notebook_mode(connected=True)"
   ]
  },
  {
   "cell_type": "code",
   "execution_count": 2,
   "metadata": {},
   "outputs": [
    {
     "name": "stdout",
     "output_type": "stream",
     "text": [
      "96\n",
      "[[  0.          0.          0.          0.          0.       ]\n",
      " [  0.          0.          1.          0.4936659   0.       ]\n",
      " [  0.          0.          2.          0.4936659   0.       ]\n",
      " ..., \n",
      " [ 95.         95.         93.          0.3718522   0.       ]\n",
      " [ 95.         95.         94.          0.2997257   0.       ]\n",
      " [ 95.         95.         95.          0.235079    0.       ]]\n"
     ]
    }
   ],
   "source": [
    "ifile = \"/Users/miiya/data/tmp_wave_spherical/NBSwave_A1_Y40.3d\"\n",
    "d  = np.loadtxt(ifile)\n",
    "Nd = int(len(d[:,0])**(1/3)+0.0001)\n",
    "d[0,3] = 0.0\n",
    "print(Nd)\n",
    "print( d)"
   ]
  },
  {
   "cell_type": "code",
   "execution_count": 3,
   "metadata": {},
   "outputs": [
    {
     "name": "stdout",
     "output_type": "stream",
     "text": [
      "48\n",
      "[[  0.          0.          0.          0.          0.       ]\n",
      " [  0.          0.          2.          0.4936659   0.       ]\n",
      " [  0.          0.          4.          0.4936659   0.       ]\n",
      " ..., \n",
      " [ 94.         94.         90.          0.3718522   0.       ]\n",
      " [ 94.         94.         92.          0.2997257   0.       ]\n",
      " [ 94.         94.         94.          0.235079    0.       ]]\n"
     ]
    }
   ],
   "source": [
    "Ns = 2\n",
    "sd = np.array([[[d[iz + Nd*(iy + Nd*ix),:] \n",
    "                 for iz in range(0,Nd,Ns)] for iy in range(0,Nd,Ns)] for ix in range(0,Nd,Ns)])\n",
    "Nsd = len(sd[:,0,0,0])\n",
    "sd  = sd.reshape((Nsd**3,5))\n",
    "print(Nsd)\n",
    "print( sd)"
   ]
  },
  {
   "cell_type": "code",
   "execution_count": 4,
   "metadata": {},
   "outputs": [
    {
     "name": "stdout",
     "output_type": "stream",
     "text": [
      "[[ 0.         0.         0.         0.         0.       ]\n",
      " [ 0.         0.         2.         0.4936659  0.       ]\n",
      " [ 0.         0.         4.         0.4936659  0.       ]\n",
      " ..., \n",
      " [-2.        -2.        -6.         0.3718522  0.       ]\n",
      " [-2.        -2.        -4.         0.2997257  0.       ]\n",
      " [-2.        -2.        -2.         0.235079   0.       ]]\n"
     ]
    }
   ],
   "source": [
    "sdc = sd\n",
    "for ix in range(Nsd):\n",
    "    for iy in range(Nsd):\n",
    "        for iz in range(Nsd):\n",
    "            idx = iz + Nsd*(iy + Nsd*ix)\n",
    "            for i in range(3):\n",
    "                if (sdc[idx,i] >= Nd//2):\n",
    "                    sdc[idx,i] = sd[idx,i]-Nd\n",
    "print(sdc)"
   ]
  },
  {
   "cell_type": "code",
   "execution_count": 5,
   "metadata": {},
   "outputs": [],
   "source": [
    "if (show_pyplot):\n",
    "    %matplotlib notebook\n",
    "    fig = plt.figure()\n",
    "    axe = fig.gca(projection='3d')\n",
    "    sca = axe.scatter3D(sdc[:,0],sdc[:,1],sdc[:,2], c=sdc[:,3], s=2, cmap=plt.cm.viridis)\n",
    "    axe.set_xlabel('x')\n",
    "    axe.set_ylabel('y')\n",
    "    axe.set_zlabel('z')\n",
    "    plt.colorbar(sca)\n",
    "    plt.show()"
   ]
  },
  {
   "cell_type": "code",
   "execution_count": 6,
   "metadata": {},
   "outputs": [],
   "source": [
    "if (show_plotly):\n",
    "    offline.iplot(dict(data=[go.Scatter3d(x=sdc[:,0],y=sdc[:,1],z=sdc[:,2], mode='markers',\n",
    "                                          marker=dict(color=sdc[:,3], size=sdc[:,3]**3*100,\n",
    "                                                      colorscale='Jet', opacity=0.4, showscale=True))],\n",
    "                                          #projection=dict(x=dict(show=True),\n",
    "                                          #                y=dict(show=True),\n",
    "                                          #                z=dict(show=True)))],\n",
    "                       layout=dict(margin=dict(l=0,r=0,b=0,t=0), autosize=False, width=800, height=800)),\n",
    "                  filename='test')"
   ]
  },
  {
   "cell_type": "code",
   "execution_count": 7,
   "metadata": {
    "scrolled": false
   },
   "outputs": [],
   "source": [
    "if (show_plotly):\n",
    "    data = [dict(x=sdc[:Nsd**2,1], y=sdc[:Nsd**2,2], visible=False, mode='markers',\n",
    "                 marker=dict(color=sdc.reshape((Nsd,Nsd,Nsd,5))[:,:,iz,3].reshape((Nsd**2)),\n",
    "                             size =sdc.reshape((Nsd,Nsd,Nsd,5))[:,:,iz,3].reshape((Nsd**2))*30,\n",
    "                             colorscale='Jet', showscale=True),\n",
    "                 name='z = '+str(sdc[iz,2]))\n",
    "            for iz in range(Nsd)]\n",
    "    \n",
    "    data[0]['visible'] = True\n",
    "    \n",
    "    steps = []\n",
    "    for i in range(len(data)):\n",
    "        step = dict(method='restyle', args=['visible', [False]*len(data)])\n",
    "        step['args'][1][i] = True\n",
    "        steps.append(step)\n",
    "    \n",
    "    sliders = [dict(active=6, currentvalue={\"prefix\": \"Frequency: \"}, pad={\"t\": 50}, steps=steps)]\n",
    "    \n",
    "    offline.iplot(dict(data=data,\n",
    "                       layout=dict(sliders=sliders, margin=dict(l=0,r=0,b=0,t=0),\n",
    "                                   autosize=False, width=800, height=800)),\n",
    "                  filename='test')"
   ]
  },
  {
   "cell_type": "code",
   "execution_count": 8,
   "metadata": {},
   "outputs": [],
   "source": [
    "if (show_plotly):\n",
    "    offline.iplot(dict(data=[go.Surface(x=sdc[:,0].reshape((Nsd,Nsd,Nsd))[:Nsd//2,0,:Nsd//2],\n",
    "                                        y=sdc[:,2].reshape((Nsd,Nsd,Nsd))[:Nsd//2,0,:Nsd//2],\n",
    "                                        z=sdc[:,3].reshape((Nsd,Nsd,Nsd))[:Nsd//2,0,:Nsd//2],\n",
    "                                        contours=dict(x=dict(show=True,project=dict(x=True)),\n",
    "                                                      y=dict(show=True,project=dict(y=True)),\n",
    "                                                      z=dict(show=True,project=dict(z=True))))],\n",
    "                       layout=dict(autosize=False, width=800, height=800, margin=dict(l=0,r=0,b=0,t=0))),\n",
    "                  filename='test')"
   ]
  },
  {
   "cell_type": "code",
   "execution_count": null,
   "metadata": {},
   "outputs": [],
   "source": []
  }
 ],
 "metadata": {
  "kernelspec": {
   "display_name": "Python 3",
   "language": "python",
   "name": "python3"
  },
  "language_info": {
   "codemirror_mode": {
    "name": "ipython",
    "version": 3
   },
   "file_extension": ".py",
   "mimetype": "text/x-python",
   "name": "python",
   "nbconvert_exporter": "python",
   "pygments_lexer": "ipython3",
   "version": "3.6.2"
  }
 },
 "nbformat": 4,
 "nbformat_minor": 2
}
