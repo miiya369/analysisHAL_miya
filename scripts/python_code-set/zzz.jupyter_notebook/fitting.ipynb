{
 "cells": [
  {
   "cell_type": "code",
   "execution_count": 1,
   "metadata": {},
   "outputs": [],
   "source": [
    "import sys, os\n",
    "import numpy             as np\n",
    "import scipy             as sp\n",
    "import scipy.optimize    as opt\n",
    "import matplotlib.pyplot as plt\n",
    "\n",
    "path_PythonCodeSet = \"/Users/miiya/python_code-set/lib\"\n",
    "sys.path.append(path_PythonCodeSet)\n",
    "\n",
    "import common.io_data_bin\n",
    "import common.statistics\n",
    "import fitting.fitfunc_type\n",
    "import fitting.io_params"
   ]
  },
  {
   "cell_type": "code",
   "execution_count": 63,
   "metadata": {},
   "outputs": [
    {
     "name": "stdout",
     "output_type": "stream",
     "text": [
      "# Successful to input Binary data\n",
      "# N.conf = 23\n",
      "# N.data = 20825\n"
     ]
    }
   ],
   "source": [
    "ibase = \"/Users/miiya/data/Kconf_NN\"\n",
    "obase = ibase\n",
    "\n",
    "ifname = \"Pot.NN_NN.eff.J_1.t08.fit\"\n",
    "ofname = \"Pot.NN_NN.eff.J_1.t08.fitparam\"\n",
    "\n",
    "r_min = 0.001\n",
    "r_max = 4.0\n",
    "\n",
    "y_tmp, x_tmp, e_tmp = common.io_data_bin.input_bin_data(ibase+\"/\"+ifname)\n",
    "\n",
    "Nc     = len(y_tmp[:,0])\n",
    "Nd_tmp = len(y_tmp[0,:])\n",
    "\n",
    "Nd = 0\n",
    "y = np.empty((Nc,0))\n",
    "x = np.empty(0)\n",
    "e = np.empty(0)\n",
    "for ir in range(Nd_tmp):\n",
    "    if (r_min <= x_tmp[ir] <= r_max):\n",
    "        y = np.append(y, y_tmp[:,ir].reshape((Nc,1)), axis=1)\n",
    "        x = np.append(x, x_tmp[  ir])\n",
    "        e = np.append(e, e_tmp[  ir])\n",
    "        Nd += 1\n",
    "del y_tmp\n",
    "del x_tmp\n",
    "del e_tmp"
   ]
  },
  {
   "cell_type": "code",
   "execution_count": 64,
   "metadata": {},
   "outputs": [
    {
     "name": "stdout",
     "output_type": "stream",
     "text": [
      "# === Fitting Results (001) ===\n",
      "# Chisq/dof = 1.338225 +/- 0.305920\n",
      "# Parameters: 1.283566e+03, 1.605188e-01, 3.488124e+02, 3.991521e-01, -4.717766e+01, 1.177901e+00, \n",
      "# === Fitting Results (002) ===\n",
      "# Chisq/dof = 1.338225 +/- 0.305920\n",
      "# Parameters: 1.283568e+03, 1.605175e-01, 3.488201e+02, 3.991503e-01, -4.717850e+01, 1.177891e+00, \n",
      "# === Fitting Results (003) ===\n",
      "# Chisq/dof = 1.338225 +/- 0.305920\n",
      "# Parameters: 1.283568e+03, 1.605175e-01, 3.488201e+02, 3.991503e-01, -4.717850e+01, 1.177891e+00, \n",
      "# === Fitting Results (004) ===\n",
      "# Chisq/dof = 1.338225 +/- 0.305920\n",
      "# Parameters: 1.283568e+03, 1.605175e-01, 3.488201e+02, 3.991503e-01, -4.717850e+01, 1.177891e+00, \n",
      "# === Fitting Results (005) ===\n",
      "# Chisq/dof = 1.338225 +/- 0.305920\n",
      "# Parameters: 1.283568e+03, 1.605175e-01, 3.488201e+02, 3.991503e-01, -4.717850e+01, 1.177891e+00, \n",
      "# === Fitting Results (006) ===\n",
      "# Chisq/dof = 1.338225 +/- 0.305920\n",
      "# Parameters: 1.283568e+03, 1.605175e-01, 3.488201e+02, 3.991503e-01, -4.717850e+01, 1.177891e+00, \n",
      "# === Fitting Results (007) ===\n",
      "# Chisq/dof = 1.338225 +/- 0.305920\n",
      "# Parameters: 1.283568e+03, 1.605175e-01, 3.488201e+02, 3.991503e-01, -4.717850e+01, 1.177891e+00, \n",
      "# === Fitting Results (008) ===\n",
      "# Chisq/dof = 1.338225 +/- 0.305920\n",
      "# Parameters: 1.283568e+03, 1.605175e-01, 3.488201e+02, 3.991503e-01, -4.717850e+01, 1.177891e+00, \n",
      "# === Fitting Results (009) ===\n",
      "# Chisq/dof = 1.338225 +/- 0.305920\n",
      "# Parameters: 1.283568e+03, 1.605175e-01, 3.488201e+02, 3.991503e-01, -4.717850e+01, 1.177891e+00, \n",
      "# === Fitting Results (010) ===\n",
      "# Chisq/dof = 1.338225 +/- 0.305920\n",
      "# Parameters: 1.283568e+03, 1.605175e-01, 3.488201e+02, 3.991503e-01, -4.717850e+01, 1.177891e+00, \n",
      "# === Fitting Results (011) ===\n",
      "# Chisq/dof = 1.338225 +/- 0.305920\n",
      "# Parameters: 1.283568e+03, 1.605175e-01, 3.488201e+02, 3.991503e-01, -4.717850e+01, 1.177891e+00, \n",
      "# === Fitting Results (012) ===\n",
      "# Chisq/dof = 1.338225 +/- 0.305920\n",
      "# Parameters: 1.283568e+03, 1.605175e-01, 3.488201e+02, 3.991503e-01, -4.717850e+01, 1.177891e+00, \n",
      "# === Fitting Results (013) ===\n",
      "# Chisq/dof = 1.338225 +/- 0.305920\n",
      "# Parameters: 1.283568e+03, 1.605175e-01, 3.488201e+02, 3.991503e-01, -4.717850e+01, 1.177891e+00, \n",
      "# === Fitting Results (014) ===\n",
      "# Chisq/dof = 1.338225 +/- 0.305920\n",
      "# Parameters: 1.283568e+03, 1.605175e-01, 3.488201e+02, 3.991503e-01, -4.717850e+01, 1.177891e+00, \n",
      "# === Fitting Results (015) ===\n",
      "# Chisq/dof = 1.338225 +/- 0.305920\n",
      "# Parameters: 1.283568e+03, 1.605175e-01, 3.488201e+02, 3.991503e-01, -4.717850e+01, 1.177891e+00, \n",
      "# === Fitting Results (016) ===\n",
      "# Chisq/dof = 1.338225 +/- 0.305920\n",
      "# Parameters: 1.283568e+03, 1.605175e-01, 3.488201e+02, 3.991503e-01, -4.717850e+01, 1.177891e+00, \n",
      "# === Fitting Results (017) ===\n",
      "# Chisq/dof = 1.338225 +/- 0.305920\n",
      "# Parameters: 1.283568e+03, 1.605175e-01, 3.488201e+02, 3.991503e-01, -4.717850e+01, 1.177891e+00, \n",
      "# === Fitting Results (018) ===\n",
      "# Chisq/dof = 1.338225 +/- 0.305920\n",
      "# Parameters: 1.283568e+03, 1.605175e-01, 3.488201e+02, 3.991503e-01, -4.717850e+01, 1.177891e+00, \n",
      "# === Fitting Results (019) ===\n",
      "# Chisq/dof = 1.338225 +/- 0.305920\n",
      "# Parameters: 1.283568e+03, 1.605175e-01, 3.488201e+02, 3.991503e-01, -4.717850e+01, 1.177891e+00, \n",
      "# === Fitting Results (020) ===\n",
      "# Chisq/dof = 1.338225 +/- 0.305920\n",
      "# Parameters: 1.283568e+03, 1.605175e-01, 3.488201e+02, 3.991503e-01, -4.717850e+01, 1.177891e+00, \n",
      "# === Fitting Results (021) ===\n",
      "# Chisq/dof = 1.338225 +/- 0.305920\n",
      "# Parameters: 1.283568e+03, 1.605175e-01, 3.488201e+02, 3.991503e-01, -4.717850e+01, 1.177891e+00, \n",
      "# === Fitting Results (022) ===\n",
      "# Chisq/dof = 1.338225 +/- 0.305920\n",
      "# Parameters: 1.283568e+03, 1.605175e-01, 3.488201e+02, 3.991503e-01, -4.717850e+01, 1.177891e+00, \n",
      "# === Fitting Results (023) ===\n",
      "# Chisq/dof = 1.338225 +/- 0.305920\n",
      "# Parameters: 1.283568e+03, 1.605175e-01, 3.488201e+02, 3.991503e-01, -4.717850e+01, 1.177891e+00, \n",
      "# === Fitting Results (024) ===\n",
      "# Chisq/dof = 1.338225 +/- 0.305920\n",
      "# Parameters: 1.283568e+03, 1.605175e-01, 3.488201e+02, 3.991503e-01, -4.717850e+01, 1.177891e+00, \n",
      "# === Fitting Results (025) ===\n",
      "# Chisq/dof = 1.338225 +/- 0.305920\n",
      "# Parameters: 1.283568e+03, 1.605175e-01, 3.488201e+02, 3.991503e-01, -4.717850e+01, 1.177891e+00, \n",
      "# === Fitting Results (026) ===\n",
      "# Chisq/dof = 1.338225 +/- 0.305920\n",
      "# Parameters: 1.283568e+03, 1.605175e-01, 3.488201e+02, 3.991503e-01, -4.717850e+01, 1.177891e+00, \n",
      "# === Fitting Results (027) ===\n",
      "# Chisq/dof = 1.338225 +/- 0.305920\n",
      "# Parameters: 1.283568e+03, 1.605175e-01, 3.488201e+02, 3.991503e-01, -4.717850e+01, 1.177891e+00, \n",
      "# === Fitting Results (028) ===\n",
      "# Chisq/dof = 1.338225 +/- 0.305920\n",
      "# Parameters: 1.283568e+03, 1.605175e-01, 3.488201e+02, 3.991503e-01, -4.717850e+01, 1.177891e+00, \n",
      "# === Fitting Results (029) ===\n",
      "# Chisq/dof = 1.338225 +/- 0.305920\n",
      "# Parameters: 1.283568e+03, 1.605175e-01, 3.488201e+02, 3.991503e-01, -4.717850e+01, 1.177891e+00, \n",
      "# === Fitting Results (030) ===\n",
      "# Chisq/dof = 1.338225 +/- 0.305920\n",
      "# Parameters: 1.283568e+03, 1.605175e-01, 3.488201e+02, 3.991503e-01, -4.717850e+01, 1.177891e+00, \n"
     ]
    }
   ],
   "source": [
    "ffunc_str = \"3G\"\n",
    "p_in = np.array([1.287875e+03, 1.678749e-01, 2.874782e+02, 4.295675e-01, -3.520471e+01, 1.195119e+00])\n",
    "\n",
    "Nres  = 30\n",
    "Max_i = 100000\n",
    "\n",
    "Np    = len(p_in)\n",
    "ffunc = fitting.fitfunc_type.set_fitfunc_from_fname(ffunc_str)\n",
    "\n",
    "for ires in range(Nres):\n",
    "    p_out = np.array([opt.curve_fit(ffunc, x, y[ic,:], sigma=e, p0=p_in, maxfev=Max_i)[0] \n",
    "                      for ic in range(Nc)])\n",
    "    chisq = np.array([np.sum(((ffunc(x, *p_out[ic,:]) - y[ic,:]) / e)**2) / (Nd - Np) for ic in range(Nc)])\n",
    "    \n",
    "    print(\"# === Fitting Results (%03d) ===\" % (ires+1))\n",
    "    print(\"# Chisq/dof = %lf +/- %lf\" % (*common.statistics.make_mean_err(chisq),))\n",
    "    p_in = np.array([common.statistics.make_mean_err(p_out[:,ip])[0] for ip in range(Np)])\n",
    "    print(\"# Parameters:\", \"%e, \"*len(p_in) % (*p_in,))"
   ]
  },
  {
   "cell_type": "code",
   "execution_count": 65,
   "metadata": {},
   "outputs": [
    {
     "name": "stdout",
     "output_type": "stream",
     "text": [
      "#\n",
      "# === Fitting Results (Fin) ===\n",
      "# Chisq/dof =        1.338225 +/-        0.305920 (      22.860106 %)\n",
      "# param[ 0] =    1.283568e+03 +/-    1.901287e+01 (       1.481252 %)\n",
      "# param[ 1] =    1.605175e-01 +/-    5.313257e-03 (       3.310079 %)\n",
      "# param[ 2] =    3.488201e+02 +/-    3.895911e+01 (      11.168826 %)\n",
      "# param[ 3] =    3.991503e-01 +/-    2.557243e-02 (       6.406717 %)\n",
      "# param[ 4] =   -4.717850e+01 +/-    6.909516e+00 (      14.645476 %)\n",
      "# param[ 5] =    1.177891e+00 +/-    6.697433e-02 (       5.685954 %)\n"
     ]
    }
   ],
   "source": [
    "print(\"#\\n# === Fitting Results (Fin) ===\")\n",
    "mean, err = common.statistics.make_mean_err(chisq)\n",
    "print(\"# Chisq/dof = %15lf +/- %15lf (%15.6f %%)\" % (mean, err, abs(err/mean) * 100))\n",
    "p_tmp = np.array([common.statistics.make_mean_err(p_out[:,ip]) for ip in range(Np)])\n",
    "for ip in range(Np):\n",
    "    print(\"# param[%2d] = %15e +/- %15e (%15.6f %%)\" % (ip, p_tmp[ip,0], p_tmp[ip,1],\n",
    "                                                        abs(p_tmp[ip,1] /p_tmp[ip,0]) * 100))"
   ]
  },
  {
   "cell_type": "code",
   "execution_count": 66,
   "metadata": {},
   "outputs": [
    {
     "data": {
      "text/plain": [
       "(0.001, 4.0)"
      ]
     },
     "execution_count": 66,
     "metadata": {},
     "output_type": "execute_result"
    },
    {
     "data": {
      "image/png": "[encoded data removed]",
      "text/plain": [
       "<matplotlib.figure.Figure at 0x109ee22e8>"
      ]
     },
     "metadata": {},
     "output_type": "display_data"
    }
   ],
   "source": [
    "r      = np.linspace(r_min, r_max, 300)\n",
    "f_ave  = np.array([np.mean(np.array([ffunc(r[ir], *p_out[ic,:]) for ic in range(Nc)])) for ir in range(len(r))])\n",
    "f_err  = np.array([np.std (np.array([ffunc(r[ir], *p_out[ic,:]) for ic in range(Nc)])) for ir in range(len(r))])\n",
    "f_err *= np.sqrt(Nc-1)\n",
    "\n",
    "fig, (axL, axR) = plt.subplots(ncols=2, figsize=(12,4), sharex=True)\n",
    "axL.errorbar(x, np.mean(y, axis=0), yerr=e, fmt='bo', ecolor='blue', lw=4)\n",
    "axR.errorbar(x, np.mean(y, axis=0), yerr=e, fmt='none', ecolor='blue', lw=2)\n",
    "axL.errorbar(r, f_ave, yerr=f_err, fmt='r-', ecolor='red', lw=2)\n",
    "axR.errorbar(r, f_ave, yerr=f_err, fmt='r-', ecolor='red', lw=1)\n",
    "\n",
    "axL.grid(which='major',color='gray',linestyle='--')\n",
    "axR.grid(which='major',color='gray',linestyle='--')\n",
    "axL.axhline(0.0, lw=2, color='black')\n",
    "axR.axhline(0.0, lw=2, color='black')\n",
    "\n",
    "axR.set_ylim([-30, 100])\n",
    "axR.set_xlim([r_min, r_max])"
   ]
  },
  {
   "cell_type": "code",
   "execution_count": 67,
   "metadata": {},
   "outputs": [
    {
     "name": "stdout",
     "output_type": "stream",
     "text": [
      "# Successful to output fit parameters.\n"
     ]
    }
   ],
   "source": [
    "fitting.io_params.output_params(obase+\"/\"+ofname, ffunc_str, p_out)"
   ]
  },
  {
   "cell_type": "code",
   "execution_count": null,
   "metadata": {},
   "outputs": [],
   "source": []
  }
 ],
 "metadata": {
  "kernelspec": {
   "display_name": "Python 3",
   "language": "python",
   "name": "python3"
  },
  "language_info": {
   "codemirror_mode": {
    "name": "ipython",
    "version": 3
   },
   "file_extension": ".py",
   "mimetype": "text/x-python",
   "name": "python",
   "nbconvert_exporter": "python",
   "pygments_lexer": "ipython3",
   "version": "3.6.2"
  }
 },
 "nbformat": 4,
 "nbformat_minor": 2
}
