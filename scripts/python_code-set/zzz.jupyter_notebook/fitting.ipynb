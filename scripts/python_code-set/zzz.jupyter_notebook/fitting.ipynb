{
 "cells": [
  {
   "cell_type": "code",
   "execution_count": 1,
   "metadata": {},
   "outputs": [],
   "source": [
    "import sys, os\n",
    "import numpy             as np\n",
    "import scipy             as sp\n",
    "import scipy.optimize    as opt\n",
    "import matplotlib.pyplot as plt\n",
    "\n",
    "path_PythonCodeSet = \"/Users/miiya/python_code-set\"\n",
    "sys.path.append(path_PythonCodeSet)\n",
    "\n",
    "import common.io_data_bin\n",
    "import common.statistics\n",
    "import fitting.fitfunc_type\n",
    "import fitting.io_params"
   ]
  },
  {
   "cell_type": "code",
   "execution_count": 2,
   "metadata": {},
   "outputs": [
    {
     "name": "stdout",
     "output_type": "stream",
     "text": [
      "# Successful to input Binary data\n",
      "# N.conf = 7\n",
      "# N.data = 969\n"
     ]
    }
   ],
   "source": [
    "ibase = \"/Users/miiya/Dropbox/programs/data/data_test.python\"\n",
    "obase = \"/Users/miiya/Dropbox/programs/data/data_test.python\"\n",
    "\n",
    "ifname = \"Pot.LcN12__LcN12_.Veff3S1.t11.bin_size57.bin\"\n",
    "ofname = \"Pot.LcN12__LcN12_.Veff3S1.t11.bin_size57.fitparam\"\n",
    "\n",
    "r_min = 0.001\n",
    "r_max = 2.0\n",
    "\n",
    "y_tmp, x_tmp, e_tmp = common.io_data_bin.input_bin_data(ibase+\"/\"+ifname)\n",
    "\n",
    "Nc     = len(y_tmp[:,0])\n",
    "Nd_tmp = len(y_tmp[0,:])\n",
    "\n",
    "Nd = 0\n",
    "y = np.empty((Nc,0))\n",
    "x = np.empty(0)\n",
    "e = np.empty(0)\n",
    "for ir in range(Nd_tmp):\n",
    "    if (r_min <= x_tmp[ir] <= r_max):\n",
    "        y = np.append(y, y_tmp[:,ir].reshape((Nc,1)), axis=1)\n",
    "        x = np.append(x, x_tmp[  ir])\n",
    "        e = np.append(e, e_tmp[  ir])\n",
    "        Nd += 1\n",
    "del y_tmp\n",
    "del x_tmp\n",
    "del e_tmp"
   ]
  },
  {
   "cell_type": "code",
   "execution_count": 3,
   "metadata": {},
   "outputs": [
    {
     "name": "stdout",
     "output_type": "stream",
     "text": [
      "# === Fitting Results (001) ===\n",
      "# Chisq/dof = 0.955172 +/- 0.486424\n",
      "# Parameters: 8.053137e+02, 1.175485e-01, 3.208757e+02, 2.779379e-01, -4.610010e+01, 7.601452e-01, \n",
      "# === Fitting Results (002) ===\n",
      "# Chisq/dof = 0.955172 +/- 0.486424\n",
      "# Parameters: 8.053136e+02, 1.175481e-01, 3.208774e+02, 2.779372e-01, -4.609991e+01, 7.601459e-01, \n",
      "# === Fitting Results (003) ===\n",
      "# Chisq/dof = 0.955172 +/- 0.486424\n",
      "# Parameters: 8.053136e+02, 1.175481e-01, 3.208774e+02, 2.779372e-01, -4.609991e+01, 7.601459e-01, \n",
      "# === Fitting Results (004) ===\n",
      "# Chisq/dof = 0.955172 +/- 0.486424\n",
      "# Parameters: 8.053136e+02, 1.175481e-01, 3.208774e+02, 2.779372e-01, -4.609991e+01, 7.601459e-01, \n",
      "# === Fitting Results (005) ===\n",
      "# Chisq/dof = 0.955172 +/- 0.486424\n",
      "# Parameters: 8.053136e+02, 1.175481e-01, 3.208774e+02, 2.779372e-01, -4.609991e+01, 7.601459e-01, \n",
      "# === Fitting Results (006) ===\n",
      "# Chisq/dof = 0.955172 +/- 0.486424\n",
      "# Parameters: 8.053136e+02, 1.175481e-01, 3.208774e+02, 2.779372e-01, -4.609991e+01, 7.601459e-01, \n"
     ]
    }
   ],
   "source": [
    "ffunc_str = \"3G\"\n",
    "p_in = np.array([8.1154e+02, 1.1941e-01, 3.1105e+02, 2.8664e-01, -4.9985e+01, 7.2021e-01])\n",
    "\n",
    "Nres  = 6\n",
    "Max_i = 100000\n",
    "\n",
    "Np    = len(p_in)\n",
    "ffunc = fitting.fitfunc_type.set_fitfunc_from_fname(ffunc_str)\n",
    "\n",
    "for ires in range(Nres):\n",
    "    p_out = np.array([opt.curve_fit(ffunc, x, y[ic,:], sigma=e, p0=p_in, maxfev=Max_i)[0] \n",
    "                      for ic in range(Nc)])\n",
    "    chisq = np.array([np.sum(((ffunc(x, *p_out[ic,:]) - y[ic,:]) / e)**2) / (Nd - Np) for ic in range(Nc)])\n",
    "    \n",
    "    print(\"# === Fitting Results (%03d) ===\" % (ires+1))\n",
    "    print(\"# Chisq/dof = %lf +/- %lf\" % (*common.statistics.make_mean_err(chisq),))\n",
    "    p_in = np.array([common.statistics.make_mean_err(p_out[:,ip])[0] for ip in range(Np)])\n",
    "    print(\"# Parameters:\", \"%e, \"*len(p_in) % (*p_in,))"
   ]
  },
  {
   "cell_type": "code",
   "execution_count": 4,
   "metadata": {},
   "outputs": [
    {
     "name": "stdout",
     "output_type": "stream",
     "text": [
      "#\n",
      "# === Fitting Results (Fin) ===\n",
      "# Chisq/dof =        0.955172 +/-        0.486424 (      50.925251 %)\n",
      "# param[ 0] =    8.053136e+02 +/-    8.272749e+00 (       1.027270 %)\n",
      "# param[ 1] =    1.175481e-01 +/-    2.598606e-03 (       2.210674 %)\n",
      "# param[ 2] =    3.208774e+02 +/-    1.432230e+01 (       4.463479 %)\n",
      "# param[ 3] =    2.779372e-01 +/-    1.125921e-02 (       4.050991 %)\n",
      "# param[ 4] =   -4.609991e+01 +/-    6.229058e+00 (      13.512083 %)\n",
      "# param[ 5] =    7.601459e-01 +/-    6.983165e-02 (       9.186611 %)\n"
     ]
    }
   ],
   "source": [
    "print(\"#\\n# === Fitting Results (Fin) ===\")\n",
    "mean, err = common.statistics.make_mean_err(chisq)\n",
    "print(\"# Chisq/dof = %15lf +/- %15lf (%15.6f %%)\" % (mean, err, abs(err/mean) * 100))\n",
    "p_tmp = np.array([common.statistics.make_mean_err(p_out[:,ip]) for ip in range(Np)])\n",
    "for ip in range(Np):\n",
    "    print(\"# param[%2d] = %15e +/- %15e (%15.6f %%)\" % (ip, p_tmp[ip,0], p_tmp[ip,1],\n",
    "                                                        abs(p_tmp[ip,1] /p_tmp[ip,0]) * 100))"
   ]
  },
  {
   "cell_type": "code",
   "execution_count": 5,
   "metadata": {},
   "outputs": [
    {
     "data": {
      "text/plain": [
       "(0.001, 2.0)"
      ]
     },
     "execution_count": 5,
     "metadata": {},
     "output_type": "execute_result"
    },
    {
     "data": {
      "image/png": "[encoded data removed]",
      "text/plain": [
       "<matplotlib.figure.Figure at 0x10868b7b8>"
      ]
     },
     "metadata": {},
     "output_type": "display_data"
    }
   ],
   "source": [
    "r      = np.linspace(0, 2.5, 300)\n",
    "f_ave  = np.array([np.mean(np.array([ffunc(r[ir], *p_out[ic,:]) for ic in range(Nc)])) for ir in range(len(r))])\n",
    "f_err  = np.array([np.std (np.array([ffunc(r[ir], *p_out[ic,:]) for ic in range(Nc)])) for ir in range(len(r))])\n",
    "f_err *= np.sqrt(Nc-1)\n",
    "\n",
    "fig, (axL, axR) = plt.subplots(ncols=2, figsize=(12,4), sharex=True)\n",
    "axL.errorbar(x, np.mean(y, axis=0), yerr=e, fmt='none', ecolor='blue', lw=4)\n",
    "axR.errorbar(x, np.mean(y, axis=0), yerr=e, fmt='none', ecolor='blue', lw=2)\n",
    "axL.errorbar(r, f_ave, yerr=f_err, fmt='r-', ecolor='red', lw=1)\n",
    "axR.errorbar(r, f_ave, yerr=f_err, fmt='r-', ecolor='red', lw=1)\n",
    "\n",
    "axL.grid(which='major',color='gray',linestyle='--')\n",
    "axR.grid(which='major',color='gray',linestyle='--')\n",
    "axL.axhline(0.0, lw=2, color='black')\n",
    "axR.axhline(0.0, lw=2, color='black')\n",
    "\n",
    "axR.set_ylim([-50, 50])\n",
    "axR.set_xlim([r_min, r_max])"
   ]
  },
  {
   "cell_type": "code",
   "execution_count": 6,
   "metadata": {},
   "outputs": [],
   "source": [
    "#fitting.io_params.output_params(obase+\"/\"+ofname, ffunc_str, p_out)"
   ]
  },
  {
   "cell_type": "code",
   "execution_count": null,
   "metadata": {},
   "outputs": [],
   "source": []
  }
 ],
 "metadata": {
  "kernelspec": {
   "display_name": "Python 3",
   "language": "python",
   "name": "python3"
  },
  "language_info": {
   "codemirror_mode": {
    "name": "ipython",
    "version": 3
   },
   "file_extension": ".py",
   "mimetype": "text/x-python",
   "name": "python",
   "nbconvert_exporter": "python",
   "pygments_lexer": "ipython3",
   "version": "3.6.2"
  }
 },
 "nbformat": 4,
 "nbformat_minor": 2
}
