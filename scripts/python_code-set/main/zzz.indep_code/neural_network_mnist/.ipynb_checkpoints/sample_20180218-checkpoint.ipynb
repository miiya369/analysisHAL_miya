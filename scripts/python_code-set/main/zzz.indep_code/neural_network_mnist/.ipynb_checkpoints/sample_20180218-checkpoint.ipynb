{
 "cells": [
  {
   "cell_type": "code",
   "execution_count": 1,
   "metadata": {},
   "outputs": [],
   "source": [
    "import io_mnist_data\n",
    "import work_space\n",
    "import activ_funcs\n",
    "import numpy as np\n",
    "\n",
    "directory_of_data = \"/Users/miiya/Dropbox/programs/data/mnist_data\"\n",
    "\n",
    "N_input = 60000\n",
    "N_test  = 10000\n",
    "\n",
    "func    = activ_funcs.ReLU\n",
    "dfunc   = activ_funcs.d_ReLU\n",
    "\n",
    "SizeOfWorkSpace = np.array([28*28, 10])"
   ]
  },
  {
   "cell_type": "code",
   "execution_count": 2,
   "metadata": {},
   "outputs": [
    {
     "name": "stdout",
     "output_type": "stream",
     "text": [
      "# Successful to input the MNIST image data\n",
      "# N.data   = 60000\n",
      "# N.row    = 28\n",
      "# N.column = 28\n"
     ]
    }
   ],
   "source": [
    "a = io_mnist_data.input_mnist_data_image(directory_of_data+\"/train-images.idx3-ubyte\", a_N = N_input)"
   ]
  },
  {
   "cell_type": "code",
   "execution_count": 3,
   "metadata": {},
   "outputs": [
    {
     "name": "stdout",
     "output_type": "stream",
     "text": [
      "# Successful to input the MNIST label data\n",
      "# N.data   = 60000\n",
      "                                                        \n",
      "                                                        \n",
      "                                                        \n",
      "                                                        \n",
      "                        **@@##                          \n",
      "                      ..@@@@@@::                        \n",
      "                        OO@@@@::                        \n",
      "                        **@@@@::                        \n",
      "                        OO@@@@::                        \n",
      "                        ##@@@@++                        \n",
      "                        ++@@@@@@++                      \n",
      "                          @@@@@@++                      \n",
      "                          @@@@@@++                      \n",
      "                          @@@@@@++                      \n",
      "                          @@@@@@++                      \n",
      "                          @@@@@@++                      \n",
      "                          @@@@@@OO                      \n",
      "                          @@@@@@@@..                    \n",
      "                          **@@@@@@**                    \n",
      "                          ++@@@@@@**                    \n",
      "                            ##@@@@@@..                  \n",
      "                            OO@@@@@@..                  \n",
      "                            ::@@@@@@..                  \n",
      "                              ##@@@@..                  \n",
      "                                                        \n",
      "                                                        \n",
      "                                                        \n",
      "                                                        \n"
     ]
    },
    {
     "data": {
      "text/plain": [
       "1"
      ]
     },
     "execution_count": 3,
     "metadata": {},
     "output_type": "execute_result"
    }
   ],
   "source": [
    "i = 6\n",
    "b = io_mnist_data.input_mnist_data_label(directory_of_data+\"/train-labels.idx1-ubyte\", a_N = N_input)\n",
    "io_mnist_data.print_image(a[i,:,:])\n",
    "b[i]"
   ]
  },
  {
   "cell_type": "code",
   "execution_count": 4,
   "metadata": {},
   "outputs": [],
   "source": [
    "ws = work_space.WorkSpace(np.array([28*28, 10]))"
   ]
  },
  {
   "cell_type": "code",
   "execution_count": 5,
   "metadata": {},
   "outputs": [],
   "source": [
    "for i in range(N_input):\n",
    "    ws.calc(a[i,:,:].flatten(), func)\n",
    "    \n",
    "    ans       = np.zeros(10)\n",
    "    ans[b[i]] = 1\n",
    "    \n",
    "    ws.back_prop(ans, dfunc)"
   ]
  },
  {
   "cell_type": "code",
   "execution_count": 6,
   "metadata": {},
   "outputs": [
    {
     "name": "stdout",
     "output_type": "stream",
     "text": [
      "# Successful to input the MNIST image data\n",
      "# N.data   = 10000\n",
      "# N.row    = 28\n",
      "# N.column = 28\n"
     ]
    }
   ],
   "source": [
    "c = io_mnist_data.input_mnist_data_image(directory_of_data+\"/t10k-images.idx3-ubyte\", a_N = N_test)"
   ]
  },
  {
   "cell_type": "code",
   "execution_count": 7,
   "metadata": {},
   "outputs": [
    {
     "name": "stdout",
     "output_type": "stream",
     "text": [
      "# Successful to input the MNIST label data\n",
      "# N.data   = 10000\n"
     ]
    }
   ],
   "source": [
    "d = io_mnist_data.input_mnist_data_label(directory_of_data+\"/t10k-labels.idx1-ubyte\", a_N = N_test)"
   ]
  },
  {
   "cell_type": "code",
   "execution_count": 8,
   "metadata": {},
   "outputs": [
    {
     "name": "stdout",
     "output_type": "stream",
     "text": [
      "correct rate for 0 =    952/   980 (=  97.14 %)\n",
      "correct rate for 1 =   1106/  1135 (=  97.44 %)\n",
      "correct rate for 2 =    833/  1032 (=  80.72 %)\n",
      "correct rate for 3 =    886/  1010 (=  87.72 %)\n",
      "correct rate for 4 =    859/   982 (=  87.47 %)\n",
      "correct rate for 5 =    626/   892 (=  70.18 %)\n",
      "correct rate for 6 =    897/   958 (=  93.63 %)\n",
      "correct rate for 7 =    903/  1028 (=  87.84 %)\n",
      "correct rate for 8 =    791/   974 (=  81.21 %)\n",
      "correct rate for 9 =    847/  1009 (=  83.94 %)\n"
     ]
    }
   ],
   "source": [
    "i_count = np.zeros(10)\n",
    "a_count = np.zeros(10)\n",
    "\n",
    "for i in range(N_test):\n",
    "    i_count[d[i]] += 1\n",
    "    if (np.argmax(ws.calc(c[i,:,:].flatten(), activ_funcs.ReLU)) == d[i]):\n",
    "        a_count[d[i]] += 1\n",
    "\n",
    "print(\"\")\n",
    "for i in range(10):\n",
    "    if (i_count[i] == 0):\n",
    "        print(\"correct rate for %3d = %6d/%6d\" % (i, a_count[i], i_count[i]))\n",
    "    else:\n",
    "        print(\"correct rate for %3d = %6d/%6d (= %6.2f %%)\" % \n",
    "          (i, a_count[i], i_count[i], float(a_count[i]) / float(i_count[i]) * 100))\n",
    "print(\"\")\n",
    "print(\"correct rate for all = %6d/%6d (= %6.2f %%)\" % \n",
    "      (np.sum(a_count), np.sum(i_count), float(np.sum(a_count)) / float(np.sum(i_count)) * 100))"
   ]
  },
  {
   "cell_type": "code",
   "execution_count": null,
   "metadata": {},
   "outputs": [],
   "source": []
  }
 ],
 "metadata": {
  "kernelspec": {
   "display_name": "Python 3",
   "language": "python",
   "name": "python3"
  },
  "language_info": {
   "codemirror_mode": {
    "name": "ipython",
    "version": 3
   },
   "file_extension": ".py",
   "mimetype": "text/x-python",
   "name": "python",
   "nbconvert_exporter": "python",
   "pygments_lexer": "ipython3",
   "version": "3.6.3"
  }
 },
 "nbformat": 4,
 "nbformat_minor": 2
}
